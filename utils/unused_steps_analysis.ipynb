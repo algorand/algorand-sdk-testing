{
 "cells": [
  {
   "cell_type": "markdown",
   "metadata": {},
   "source": [
    "# Cucumber Steps Analysis Notebook\n",
    "\n",
    "## Regex + Fuzzy Matcher of SDK Implemented Steps Against Actual Feature Steps\n",
    "\n",
    "### Input - use the `make display-...` commands in each SDK\n",
    "### Final outputs look like this [Google spreadsheet](https://docs.google.com/spreadsheets/d/1Szfvw6_OV0cTz-IEN9bTop5ZW2i472D-pmIHyPVJing/edit#gid=737750452)"
   ]
  },
  {
   "cell_type": "code",
   "execution_count": null,
   "metadata": {},
   "outputs": [],
   "source": [
    "# also need to install the various Jupyter dependencies and pandas\n",
    "\n",
    "%pip install gherkin-official\n",
    "%pip install fuzzywuzzy\n",
    "%pip install pandas\n",
    "\n",
    "# needed for faster fuzzywuzzy:\n",
    "%pip install python-Levenshtein"
   ]
  },
  {
   "cell_type": "code",
   "execution_count": null,
   "metadata": {},
   "outputs": [],
   "source": [
    "from dataclasses import dataclass\n",
    "from functools import reduce\n",
    "from fuzzywuzzy import fuzz, process as fzp\n",
    "import gherkin\n",
    "import gherkin.parser\n",
    "import pandas as pd\n",
    "from pathlib import Path"
   ]
  },
  {
   "cell_type": "markdown",
   "metadata": {},
   "source": [
    "## Step 1: parse all Gherkin features"
   ]
  },
  {
   "cell_type": "code",
   "execution_count": null,
   "metadata": {},
   "outputs": [],
   "source": [
    "def get_features_df():\n",
    "    units = (Path.cwd().parent / \"features\" / \"unit\").glob(\"*.feature\")\n",
    "    integrations = (Path.cwd().parent / \"features\" / \"integration\").glob(\"*feature\")\n",
    "    dfu = pd.DataFrame(data=[{\"test_type\": \"unit\", \"feature_path\": line} for line in units])\n",
    "    dfi = pd.DataFrame(data=[{\"test_type\": \"integration\", \"feature_path\": line} for line in integrations])\n",
    "    feat_df = pd.concat([dfu, dfi])\n",
    "    feat_df[\"feature\"] = feat_df.feature_path.apply(lambda s: s.name)\n",
    "    return feat_df.set_index(\"feature\")"
   ]
  },
  {
   "cell_type": "code",
   "execution_count": null,
   "metadata": {},
   "outputs": [],
   "source": [
    "feat_df = get_features_df()\n",
    "feat_df"
   ]
  },
  {
   "cell_type": "code",
   "execution_count": null,
   "metadata": {},
   "outputs": [],
   "source": [
    "@dataclass(eq=True, order=True, frozen=True)\n",
    "class Step:\n",
    "    keyword: str\n",
    "    text: str\n",
    "\n",
    "def parse_features(feature_path):\n",
    "    parser = gherkin.parser.Parser()\n",
    "    with open(feature_path) as f:\n",
    "        feature_info = gherkin.token_scanner.TokenScanner(f.read())\n",
    "    return parser.parse(feature_info)\n",
    "\n",
    "def extract_all(key: str, d: dict, append_method=\"extend\") -> list:\n",
    "    extracted = []\n",
    "    def extractor(_d):\n",
    "        if key in _d:\n",
    "            v = _d[key]\n",
    "            if append_method == \"extend\":\n",
    "                extracted.extend(v)\n",
    "            else:\n",
    "                extracted.append(v)\n",
    "        for k, v in _d.items():\n",
    "            if k != key and isinstance(v, dict):\n",
    "                extractor(v)\n",
    "            elif isinstance(v, list):\n",
    "                for a in v:\n",
    "                    if isinstance(a, dict):\n",
    "                        extractor(a)\n",
    "    extractor(d)\n",
    "    return extracted\n",
    "\n",
    "def uniq(s: list):\n",
    "    return sorted(list(set(s)))\n",
    "\n",
    "def extract_tags(feature_info: dict) -> list:\n",
    "    return uniq([tag[\"name\"] for tag in extract_all(\"tags\", feature_info)])\n",
    "\n",
    "def extract_steps(feature_info: dict) -> list:\n",
    "    return uniq([Step(step[\"keyword\"],step[\"text\"]) for step in extract_all(\"steps\", feature_info)])"
   ]
  },
  {
   "cell_type": "markdown",
   "metadata": {},
   "source": [
    "#### Example: extract cucumber info for `c2c.feature`"
   ]
  },
  {
   "cell_type": "code",
   "execution_count": null,
   "metadata": {},
   "outputs": [],
   "source": [
    "feature=\"c2c.feature\"\n",
    "feat_df = get_features_df()\n",
    "eg_feature = feat_df[feat_df.index == feature].feature_path.iloc[0]\n",
    "\n",
    "feature_info = parse_features(eg_feature)\n",
    "tags = extract_tags(feature_info)\n",
    "steps = extract_steps(feature_info)\n",
    "\n",
    "tags, steps, feature_info"
   ]
  },
  {
   "cell_type": "markdown",
   "metadata": {},
   "source": [
    "### All the Tags"
   ]
  },
  {
   "cell_type": "code",
   "execution_count": null,
   "metadata": {},
   "outputs": [],
   "source": [
    "def append_tags(feat_df):\n",
    "    def mapper(p):\n",
    "        feature_info = parse_features(p)\n",
    "        return extract_tags(feature_info)\n",
    "    \n",
    "    feat_df[\"tags\"] = feat_df.feature_path.apply(mapper)\n",
    "\n",
    "tags_df = get_features_df()\n",
    "append_tags(tags_df)\n",
    "\n",
    "tags_df[['test_type', 'tags']]"
   ]
  },
  {
   "cell_type": "code",
   "execution_count": null,
   "metadata": {},
   "outputs": [],
   "source": [
    "all_tags = uniq(reduce(lambda l,x : l+x, tags_df.tags, []))\n",
    "print(all_tags)"
   ]
  },
  {
   "cell_type": "markdown",
   "metadata": {},
   "source": [
    "### All the Steps"
   ]
  },
  {
   "cell_type": "code",
   "execution_count": null,
   "metadata": {},
   "outputs": [],
   "source": [
    "def get_step2feat(feat_df):\n",
    "    def mapper(row):\n",
    "        feature_info = parse_features(row.feature_path)\n",
    "        return (row.feature, extract_steps(feature_info))\n",
    "    \n",
    "    feat_df = feat_df.reset_index()\n",
    "    steps = feat_df.apply(mapper, axis=1)\n",
    "    steps = pd.DataFrame(reduce(lambda xs, x: xs + [{\"feature\": x[0], \"step\": y} for y in x[1]], steps, []))\n",
    "    steps[\"gwt\"] = steps.step.apply(lambda step: step.keyword)\n",
    "    steps[\"step\"] = steps.step.apply(lambda step: step.text)\n",
    "\n",
    "    feat_df = feat_df.set_index(\"feature\")\n",
    "    steps = steps.set_index(\"feature\")\n",
    "\n",
    "    return feat_df.join(steps)\n",
    "\n",
    "def fill_step_templates(steps_df):\n",
    "    subs = {\n",
    "        r'\"<[^>]*>\"': '\"hello\"',\n",
    "        r'<[^(][^>]*>': '42',\n",
    "    }\n",
    "    steps_df[\"filled_step\"] = steps_df.step.replace(subs.keys(), subs.values(), regex=True)\n",
    "    return steps_df"
   ]
  },
  {
   "cell_type": "code",
   "execution_count": null,
   "metadata": {},
   "outputs": [],
   "source": [
    "all_steps = get_step2feat(get_features_df())\n",
    "all_steps = fill_step_templates(all_steps)\n",
    "all_steps"
   ]
  },
  {
   "cell_type": "code",
   "execution_count": null,
   "metadata": {},
   "outputs": [],
   "source": [
    "filled_steps = all_steps.groupby(by=\"filled_step\").count()\n",
    "filled_steps = filled_steps[[\"step\"]].rename(columns={\"step\": \"count\"}).sort_values(by=\"count\", ascending=False)\n",
    "filled_steps = filled_steps.reset_index()\n",
    "filled_steps"
   ]
  },
  {
   "cell_type": "code",
   "execution_count": null,
   "metadata": {},
   "outputs": [],
   "source": [
    "# filled_steps.to_clipboard()"
   ]
  },
  {
   "cell_type": "markdown",
   "metadata": {},
   "source": [
    "## Step 2: parse the SDK-steps summaries into Pandas"
   ]
  },
  {
   "cell_type": "markdown",
   "metadata": {},
   "source": [
    "## 2A) Java\n",
    "\n",
    "### e.g., created in the Java SDK via \n",
    "```sh\n",
    "make display-all-java-steps\n",
    "```\n",
    "\n",
    "### i.e.:\n",
    "```sh\n",
    "find . 2>/dev/null | xargs grep \"io.cucumber.java.en\" 2>/dev/null | grep -v Binary | cut -d: -f1 | sort | uniq | xargs grep -E \"@(Given|Then|When)\"\n",
    "```"
   ]
  },
  {
   "cell_type": "markdown",
   "metadata": {},
   "source": [
    "#### `java_source2step`"
   ]
  },
  {
   "cell_type": "code",
   "execution_count": null,
   "metadata": {},
   "outputs": [],
   "source": [
    "# keeping a small sample for illustrative purposes:\n",
    "\n",
    "java_source2step = \"\"\"./src/test/java/com/algorand/algosdk/cucumber/shared/TransactionSteps.java:    @When(\"I build an application transaction with operation {string}, application-id {long}, sender {string}, approval-program {string}, clear-program {string}, global-bytes {long}, global-ints {long}, local-bytes {long}, local-ints {long}, app-args {string}, foreign-apps {string}, foreign-assets {string}, app-accounts {string}, fee {long}, first-valid {long}, last-valid {long}, genesis-hash {string}, extra-pages {long}\")\n",
    "./src/test/java/com/algorand/algosdk/integration/Stepdefs.java:    @Then(\"I do my part\")\"\"\""
   ]
  },
  {
   "cell_type": "markdown",
   "metadata": {},
   "source": [
    "### `javasdk_df`"
   ]
  },
  {
   "cell_type": "code",
   "execution_count": null,
   "metadata": {},
   "outputs": [],
   "source": [
    "java_source_and_step = [s2s.split(\":    \") for s2s in java_source2step.split(\"\\n\")]\n",
    "javasdk_df = pd.DataFrame(data=[{\"source\": line[0], \"raw_step\": line[1]} for line in java_source_and_step])\n",
    "javasdk_df[[\"gwt\",\"step\"]] = javasdk_df.raw_step.str.extract(r'@([^(]*).\"([^\"]*)\"')\n",
    "javasdk_df"
   ]
  },
  {
   "cell_type": "markdown",
   "metadata": {},
   "source": [
    "### Rexify - `javasdk_rex_df`"
   ]
  },
  {
   "cell_type": "code",
   "execution_count": null,
   "metadata": {},
   "outputs": [],
   "source": [
    "subs = {\n",
    "    ')': '\\)',\n",
    "    '{string}': '\"([^\"]*)\"',\n",
    "    '{int}': '(\\d+)',\n",
    "    '{long}': '(\\d+)',\n",
    "    '{biginteger}': '(\\d+)',\n",
    "}\n",
    "javasdk_rex_df = javasdk_df.copy()\n",
    "for k, v in subs.items():\n",
    "    javasdk_rex_df[\"step\"] = javasdk_rex_df.step.str.replace(k, v, regex=False)\n",
    "javasdk_rex_df"
   ]
  },
  {
   "cell_type": "code",
   "execution_count": null,
   "metadata": {},
   "outputs": [],
   "source": [
    "# javasdk_rex_df.to_clipboard()"
   ]
  },
  {
   "cell_type": "markdown",
   "metadata": {},
   "source": [
    "## 2B) Python\n",
    "\n",
    "### e.g., created in the Python SDK via\n",
    "```sh\n",
    "make display-all-python-steps\n",
    "```\n",
    "\n",
    "### i.e.:\n",
    "```sh\n",
    "find tests/steps -name \"*.py\" | xargs grep \"behave\" 2>/dev/null | cut -d: -f1 | sort | uniq | xargs awk \"/@(given|step|then|when)/,/[)]/\" | grep -E \"(\\\".+\\\"|\\'.+\\')\"\n",
    "```"
   ]
  },
  {
   "cell_type": "code",
   "execution_count": null,
   "metadata": {},
   "outputs": [],
   "source": [
    "# keeping a small sample for illustrative purposes:\n",
    "\n",
    "py_steps = \"\"\"    'we make an Account Information call against account \"{account}\" with exclude \"{exclude:MaybeString}\"'\n",
    "@when('we make an Account Information call against account \"{account}\"')\n",
    "    'we make a Lookup Account by ID call against account \"{account}\" with round {block}'\n",
    "    'we make a Lookup Account by ID call against account \"{account}\" with exclude \"{exclude:MaybeString}\"'\n",
    "@when(\"we make any LookupAccountByID call\")\n",
    "@then('the parsed LookupAccountByID response should have address \"{address}\"')\n",
    "@when(\"we make any Account Information call\")\n",
    "    'the parsed Account Information response should have address \"{address}\"'\n",
    "@then(\"I do my part\")\"\"\"\n"
   ]
  },
  {
   "cell_type": "markdown",
   "metadata": {},
   "source": [
    "### `pysdk_df` - Unprocessed Steps"
   ]
  },
  {
   "cell_type": "code",
   "execution_count": null,
   "metadata": {},
   "outputs": [],
   "source": [
    "pysdk_df = pd.DataFrame(data=[{\"raw_step\": line} for line in py_steps.split(\"\\n\")])\n",
    "pysdk_df[[\"1\", \"2\"]] = pysdk_df.raw_step.str.extract(r'@(given|step|then|when).(.*).')\n",
    "pysdk_df[\"step\"] = pysdk_df.apply(lambda row: (row[\"raw_step\"][4:] if pd.isnull(row[\"2\"]) else row[\"2\"])[1:-1], axis=1)\n",
    "pysdk_df = pysdk_df.drop([\"1\", \"2\"], axis=1)\n",
    "pysdk_df"
   ]
  },
  {
   "cell_type": "markdown",
   "metadata": {},
   "source": [
    "### Rexify - `pysdk_rex_df`"
   ]
  },
  {
   "cell_type": "code",
   "execution_count": null,
   "metadata": {},
   "outputs": [],
   "source": [
    "subs = {\n",
    "    r'\"\\{[^}]*\\}\"': '\"([^\"]*)\"',\n",
    "    r'\\{[^(][^}]*\\}': '([0-9]+)',\n",
    "}\n",
    "pysdk_rex_df = pysdk_df.copy()\n",
    "pysdk_rex_df[\"step\"] = pysdk_rex_df.step.replace(subs.keys(), subs.values(), regex=True)\n",
    "pysdk_rex_df"
   ]
  },
  {
   "cell_type": "code",
   "execution_count": null,
   "metadata": {},
   "outputs": [],
   "source": [
    "# pysdk_rex_df.to_clipboard()"
   ]
  },
  {
   "cell_type": "markdown",
   "metadata": {},
   "source": [
    "## 2C) Go\n",
    "\n",
    "### e.g., created in the Go SDK via\n",
    "```sh\n",
    "make display-all-go-steps\n",
    "```\n",
    "\n",
    "### i.e.:\n",
    "```sh\n",
    "find test -name \"*.go\" | xargs grep \"github.com/cucumber/godog\" 2>/dev/null | cut -d: -f1 | sort | uniq | xargs grep -Eo \"Step[(].[^\\`]+\" | awk '{sub(/:Step\\(./,\":\")} 1' | sed -E 's/\", [a-zA-Z0-9]+\\)//g'\n",
    "```"
   ]
  },
  {
   "cell_type": "code",
   "execution_count": null,
   "metadata": {},
   "outputs": [],
   "source": [
    "# keeping a small sample for illustrative purposes:\n",
    "\n",
    "go_source2step =\"\"\"test/algodclientv2_test.go:^mock http responses in \"([^\"]*)\" loaded from \"([^\"]*)\"$\n",
    "test/algodclientv2_test.go:^expect error string to contain \"([^\"]*)\"$\n",
    "test/algodclientv2_test.go:^we make any Pending Transaction Information call$\n",
    "test/algodclientv2_test.go:^the parsed Pending Transaction Information response should have sender \"([^\"]*)\"$\n",
    "test/steps_test.go:I do my part\"\"\""
   ]
  },
  {
   "cell_type": "markdown",
   "metadata": {},
   "source": [
    "### `gosdk_df` - already Rexify'ed"
   ]
  },
  {
   "cell_type": "code",
   "execution_count": null,
   "metadata": {},
   "outputs": [],
   "source": [
    "go_source_and_step = [s2s.split(\":\") for s2s in go_source2step.split(\"\\n\")]\n",
    "gosdk_df = pd.DataFrame(data=[{\"source\": line[0], \"step\": line[1]} for line in go_source_and_step])\n",
    "gosdk_df"
   ]
  },
  {
   "cell_type": "code",
   "execution_count": null,
   "metadata": {},
   "outputs": [],
   "source": [
    "# gosdk_df.to_clipboard()"
   ]
  },
  {
   "cell_type": "markdown",
   "metadata": {},
   "source": [
    "## 2D) Javascript\n",
    "\n",
    "### e.g., created in the Javascript SDK via\n",
    "```sh\n",
    "make display-all-hs-steps\n",
    "```\n",
    "\n",
    "### i.e.:\n",
    "```sh\n",
    "tail -n +135 tests/cucumber/steps/steps.js | grep -v '^ *//' | awk \"/(Given|Then|When)/,/',/\" | grep -E \"\\'.+\\'\"  | sed \"s/^[^']*'\\([^']*\\)'.*/\\1/g\"\n",
    "```"
   ]
  },
  {
   "cell_type": "markdown",
   "metadata": {},
   "source": [
    "#### `js_steps`"
   ]
  },
  {
   "cell_type": "code",
   "execution_count": null,
   "metadata": {},
   "outputs": [],
   "source": [
    "# keeping a small sample for illustrative purposes:\n",
    "\n",
    "js_steps = \"\"\"an algod client\n",
    "a kmd client\n",
    "an algod v2 client\n",
    "wallet information\n",
    "I get versions with algod\n",
    "v1 should be in the versions\n",
    "I get versions with kmd\n",
    "I get the status\n",
    "I get status after this block\n",
    "I can get the block info\n",
    "payment transaction parameters {int} {int} {int} {string} {string} {string} {int} {string} {string}\n",
    "mnemonic for private key {string}\n",
    "we expect the path used to be {string}\"\"\""
   ]
  },
  {
   "cell_type": "markdown",
   "metadata": {},
   "source": [
    "### `jssdk_df` - Unprocessed"
   ]
  },
  {
   "cell_type": "code",
   "execution_count": null,
   "metadata": {},
   "outputs": [],
   "source": [
    "jssdk_df = pd.DataFrame(data=[{\"step\": line} for line in js_steps.split(\"\\n\")])\n",
    "jssdk_df"
   ]
  },
  {
   "cell_type": "code",
   "execution_count": null,
   "metadata": {},
   "outputs": [],
   "source": [
    "# jssdk_df.to_clipboard()"
   ]
  },
  {
   "cell_type": "markdown",
   "metadata": {},
   "source": [
    "### Rexify - `jssdk_rex_df`"
   ]
  },
  {
   "cell_type": "code",
   "execution_count": null,
   "metadata": {},
   "outputs": [],
   "source": [
    "subs = {\n",
    "    ')': '\\)',\n",
    "    '{string}': '\"([^\"]*)\"',\n",
    "    '{int}': '(\\d+)',\n",
    "}\n",
    "jssdk_rex_df = jssdk_df.copy()\n",
    "for k, v in subs.items():\n",
    "    jssdk_rex_df[\"step\"] = jssdk_rex_df.step.str.replace(k, v, regex=False)\n",
    "jssdk_rex_df"
   ]
  },
  {
   "cell_type": "code",
   "execution_count": null,
   "metadata": {},
   "outputs": [],
   "source": [
    "# jssdk_rex_df.to_clipboard()"
   ]
  },
  {
   "cell_type": "markdown",
   "metadata": {},
   "source": [
    "## Step 3) simulate Cucumber regex matcher"
   ]
  },
  {
   "cell_type": "code",
   "execution_count": null,
   "metadata": {},
   "outputs": [],
   "source": [
    "def match_stepre2cucumber(step_re, cuke_df):\n",
    "    matches = cuke_df[cuke_df.filled_step.str.match(step_re)]\n",
    "    return None if matches.empty else matches.iloc[0].filled_step\n",
    "\n",
    "jss = jssdk_rex_df.iloc[2]\n",
    "jsm = match_stepre2cucumber(jss.step, filled_steps)\n",
    "\n",
    "print(f\"\"\"{jss=}\n",
    "{jsm=}\"\"\")"
   ]
  },
  {
   "cell_type": "code",
   "execution_count": null,
   "metadata": {},
   "outputs": [],
   "source": [
    "def match_sdk2cucumber(sdk_rex_df, cuke_df, discard_matched=True):\n",
    "    matches = sdk_rex_df.copy()\n",
    "    matches[\"cuke\"] = matches.step.apply(lambda step: match_stepre2cucumber(step, cuke_df))\n",
    "    if discard_matched:\n",
    "        matches = matches[pd.isna(matches.cuke)]\n",
    "    return matches"
   ]
  },
  {
   "cell_type": "markdown",
   "metadata": {},
   "source": [
    "### 3A) `javasdk_rex_unmatched`"
   ]
  },
  {
   "cell_type": "code",
   "execution_count": null,
   "metadata": {},
   "outputs": [],
   "source": [
    "javasdk_rex_unmatched = match_sdk2cucumber(javasdk_rex_df, filled_steps)\n",
    "javasdk_rex_unmatched"
   ]
  },
  {
   "cell_type": "markdown",
   "metadata": {},
   "source": [
    "### 3B) `pysdk_rex_unmatched`"
   ]
  },
  {
   "cell_type": "code",
   "execution_count": null,
   "metadata": {},
   "outputs": [],
   "source": [
    "pysdk_rex_unmatched = match_sdk2cucumber(pysdk_rex_df, filled_steps)\n",
    "pysdk_rex_unmatched"
   ]
  },
  {
   "cell_type": "markdown",
   "metadata": {},
   "source": [
    "### 3C) `gosdk_rex_unmatched`"
   ]
  },
  {
   "cell_type": "code",
   "execution_count": null,
   "metadata": {},
   "outputs": [],
   "source": [
    "gosdk_rex_unmatched = match_sdk2cucumber(gosdk_df, filled_steps)\n",
    "gosdk_rex_unmatched"
   ]
  },
  {
   "cell_type": "markdown",
   "metadata": {},
   "source": [
    "### 3D) `jssdk_rex_unmatched`"
   ]
  },
  {
   "cell_type": "code",
   "execution_count": null,
   "metadata": {},
   "outputs": [],
   "source": [
    "jssdk_rex_unmatched = match_sdk2cucumber(jssdk_rex_df, filled_steps)\n",
    "jssdk_rex_unmatched"
   ]
  },
  {
   "cell_type": "code",
   "execution_count": null,
   "metadata": {},
   "outputs": [],
   "source": [
    "print(f\"\"\"\n",
    "--- AFTER APPLYING REGEX MATCHING, WE HAVE THE FOLLOWING COUNTS OF UNMATCHED STEPS. APPLY FUZZY MATCHER IF ANY REMAIN:\n",
    "* {len(javasdk_rex_unmatched)=}\n",
    "* {len(pysdk_rex_unmatched)=}\n",
    "* {len(gosdk_rex_unmatched)=}\n",
    "* {len(jssdk_rex_unmatched)=}\n",
    "\"\"\")"
   ]
  },
  {
   "cell_type": "markdown",
   "metadata": {},
   "source": [
    "## Step 4) fuzzy match remaining SDK steps against features\n",
    "\n",
    "### NOTE: if an SDK's `*_rex_ummatched` is empty, the fuzzy matcher will fail, as there is nothing to match. In that case, there are probably _NO UNUSED STEPS_"
   ]
  },
  {
   "cell_type": "code",
   "execution_count": null,
   "metadata": {},
   "outputs": [],
   "source": [
    "def fuzz_step_v_df(step, df, total_scorer=True):\n",
    "    scorer = fuzz.ratio if total_scorer else fuzz.partial_ratio\n",
    "    return fzp.extractOne(step, df.step, scorer=scorer)\n",
    "\n",
    "def fuzzing_algo(samples_df, scoring_df):\n",
    "    \"\"\"\n",
    "    samples_df - \"unknown\" strings to score\n",
    "    scoring_df - \"univierse\" of known strings to search and find the \"best_match\"\n",
    "    \"\"\"\n",
    "    def matcher(left, total_scorer: bool):\n",
    "        matches = []\n",
    "        cols = [\"match\", \"score\", \"idx\"]\n",
    "        if total_scorer:\n",
    "            cols = list(map(lambda s: f\"total_{s}\", cols))\n",
    "\n",
    "        def fuzzer(row):\n",
    "            return fuzz_step_v_df(row.step, scoring_df, total_scorer=total_scorer)\n",
    "\n",
    "        msi = left.apply(fuzzer, axis=1, result_type='expand').rename(columns=dict(enumerate(cols)))\n",
    "        return pd.concat([left, msi], axis=1)\n",
    "    \n",
    "    res = matcher(samples_df, total_scorer=True)\n",
    "    res = res[res.total_score < 100]\n",
    "\n",
    "    res = matcher(res, total_scorer=False)    \n",
    "    return res"
   ]
  },
  {
   "cell_type": "markdown",
   "metadata": {},
   "source": [
    "### 4A) fuzzy logic against javasdk"
   ]
  },
  {
   "cell_type": "code",
   "execution_count": null,
   "metadata": {},
   "outputs": [],
   "source": [
    "java_remainder = fuzzing_algo(javasdk_rex_unmatched, all_steps)\n",
    "java_remainder = java_remainder.sort_values(by='score')\n",
    "java_remainder"
   ]
  },
  {
   "cell_type": "code",
   "execution_count": null,
   "metadata": {},
   "outputs": [],
   "source": [
    "# java_remainder.to_clipboard()"
   ]
  },
  {
   "cell_type": "markdown",
   "metadata": {},
   "source": [
    "### 4B) fuzzy logic against pysdk"
   ]
  },
  {
   "cell_type": "code",
   "execution_count": null,
   "metadata": {},
   "outputs": [],
   "source": [
    "py_remainder = fuzzing_algo(pysdk_rex_unmatched, all_steps)\n",
    "py_remainder = py_remainder.sort_values(by='score')\n",
    "py_remainder"
   ]
  },
  {
   "cell_type": "code",
   "execution_count": null,
   "metadata": {},
   "outputs": [],
   "source": [
    "# py_remaninder.to_clipboard()"
   ]
  },
  {
   "cell_type": "markdown",
   "metadata": {},
   "source": [
    "### 4C) fuzzy logic against gosdk"
   ]
  },
  {
   "cell_type": "code",
   "execution_count": null,
   "metadata": {},
   "outputs": [],
   "source": [
    "go_remainder = fuzzing_algo(gosdk_rex_unmatched, all_steps)\n",
    "go_remainder = go_remainder.sort_values(by='score')\n",
    "go_remainder"
   ]
  },
  {
   "cell_type": "code",
   "execution_count": null,
   "metadata": {},
   "outputs": [],
   "source": [
    "# go_remainder.to_clipboard()"
   ]
  },
  {
   "cell_type": "markdown",
   "metadata": {},
   "source": [
    "### 4D) fuzzy logic against jssdk"
   ]
  },
  {
   "cell_type": "code",
   "execution_count": null,
   "metadata": {},
   "outputs": [],
   "source": [
    "js_remainder = fuzzing_algo(jssdk_rex_unmatched, all_steps)\n",
    "js_remainder = js_remainder.sort_values(by='score')\n",
    "js_remainder"
   ]
  },
  {
   "cell_type": "code",
   "execution_count": null,
   "metadata": {},
   "outputs": [],
   "source": [
    "# js_remainder.to_clipboard()"
   ]
  }
 ],
 "metadata": {
  "kernelspec": {
   "display_name": "Python 3.10.6 64-bit",
   "language": "python",
   "name": "python3"
  },
  "language_info": {
   "codemirror_mode": {
    "name": "ipython",
    "version": 3
   },
   "file_extension": ".py",
   "mimetype": "text/x-python",
   "name": "python",
   "nbconvert_exporter": "python",
   "pygments_lexer": "ipython3",
   "version": "3.10.6"
  },
  "orig_nbformat": 4,
  "vscode": {
   "interpreter": {
    "hash": "aee8b7b246df8f9039afb4144a1f6fd8d2ca17a180786b69acc140d282b71a49"
   }
  }
 },
 "nbformat": 4,
 "nbformat_minor": 2
}
